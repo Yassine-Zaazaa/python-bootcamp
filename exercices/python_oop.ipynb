{
 "cells": [
  {
   "cell_type": "markdown",
   "metadata": {},
   "source": [
    "## Exercise 1:\n",
    "\n",
    "- consedering the following code\n",
    "\n",
    "```python\n",
    "import datetime # we will use this for date objects\n",
    "\n",
    "class Person:\n",
    "\n",
    "    def __init__(self, name, surname, birthdate, address, telephone, email):\n",
    "        self.name = name\n",
    "        self.surname = surname\n",
    "        self.birthdate = birthdate\n",
    "\n",
    "        self.address = address\n",
    "        self.telephone = telephone\n",
    "        self.email = email\n",
    "\n",
    "    def age(self):\n",
    "        today = datetime.date.today()\n",
    "        age = today.year - self.birthdate.year\n",
    "\n",
    "        if today < datetime.date(today.year, self.birthdate.month, self.birthdate.day):\n",
    "            age -= 1\n",
    "\n",
    "        return age\n",
    "\n",
    "person = Person(\n",
    "    \"Jane\",\n",
    "    \"Doe\",\n",
    "    datetime.date(1992, 3, 12), # year, month, day\n",
    "    \"No. 12 Short Street, Greenville\",\n",
    "    \"555 456 0987\",\n",
    "    \"jane.doe@example.com\"\n",
    ")\n",
    "\n",
    "print(person.name)\n",
    "print(person.email)\n",
    "print(person.age())\n",
    "```\n",
    "Explain what the following variables refer to, and their scope:\n",
    "1. Person\n",
    "2. person\n",
    "3. surname\n",
    "4. self\n",
    "5. age (the function name)\n",
    "6. age (the variable used inside the function)\n",
    "7. self.email\n",
    "8. person.email"
   ]
  },
  {
   "cell_type": "markdown",
   "metadata": {},
   "source": [
    "### write your answer here\n",
    "1.  Person is a class (Data type)\n",
    "2.  person is a variable of Data type:Person\n",
    "3.  surname is a Person parameter, it refers to a nickname\n",
    "4.  self means Person, ex: if we have a Person variable named person, self.name becomes person.name\n",
    "5.  A function that calculates the age of the person\n",
    "6.  The age of the person\n",
    "7.  self.email refers to the person's email\n",
    "8.  person.email refers to \"jane.doe@example.com\""
   ]
  },
  {
   "cell_type": "markdown",
   "metadata": {},
   "source": [
    "## Exercise 2\n",
    "1. Rewrite the `Person` class so that a person’s age is calculated for the first time when a new person instance is created, and recalculated (when it is requested) if the day has changed since the last time that it was calculated."
   ]
  },
  {
   "cell_type": "code",
   "execution_count": 4,
   "metadata": {},
   "outputs": [
    {
     "data": {
      "text/plain": [
       "29"
      ]
     },
     "execution_count": 4,
     "metadata": {},
     "output_type": "execute_result"
    }
   ],
   "source": [
    "import datetime\n",
    "\n",
    "class Person:\n",
    "  def __init__(self, name, surname, birthdate, adress, telephone, email):\n",
    "    self.name = name\n",
    "    self.surname = surname\n",
    "    self.birthdate = birthdate\n",
    "    self.adress = adress\n",
    "    self.telephone = telephone\n",
    "    self.email = email\n",
    "    self.age = self.age1()\n",
    "\n",
    "  def age1(self):\n",
    "    today = datetime.date.today()\n",
    "    age1 = today.year - self.birthdate.year\n",
    "\n",
    "    if today < datetime.date(today.year, self.birthdate.month, self.birthdate.day):\n",
    "      age1 -=1\n",
    "    return age1\n",
    "person = Person(\n",
    "    \"Jane\",\n",
    "    \"Doe\",\n",
    "    datetime.date(1992, 3, 12), # year, month, day\n",
    "    \"No. 12 Short Street, Greenville\",\n",
    "    \"555 456 0987\",\n",
    "    \"jane.doe@example.com\"\n",
    ")"
   ]
  },
  {
   "cell_type": "markdown",
   "metadata": {},
   "source": [
    "## Exercise 3\n",
    "1. Explain the differences between the attributes `name`, `surname` and `profession`, and what values they can have in different instances of this class:\n",
    "```python\n",
    "class Smith:\n",
    "    surname = \"Smith\"\n",
    "    profession = \"smith\"\n",
    "\n",
    "    def __init__(self, name, profession=None):\n",
    "        self.name = name\n",
    "        if profession is not None:\n",
    "            self.profession = profession\n",
    "```"
   ]
  },
  {
   "cell_type": "code",
   "execution_count": 22,
   "metadata": {},
   "outputs": [],
   "source": [
    "#The difference between name,surname and profession is that the name is a mandatory parameter \n",
    "# if you don't specify it during the creation of the object the object will not be created.\n",
    "#If the profession isn't specified during the creation of the object it will take the value NONE\n",
    "#And the surname is just a class variable created in the class."
   ]
  },
  {
   "cell_type": "markdown",
   "metadata": {},
   "source": [
    "## Exercise 4:\n",
    "1. Create a class called `Numbers`, which has a single class attribute called `MULTIPLIER`, and a constructor which takes the parameters `x` and `y` (these should all be numbers).\n",
    "    1. Write a method called `add` which returns the sum of the attributes `x` and `y`.\n",
    "    2. Write a class method called `multiply`, which takes a single number parameter `a` and returns the product of `a` and `MULTIPLIER`.\n",
    "    3. Write a static method called `subtract`, which takes two number parameters, `b` and `c`, and returns `b - c`.\n",
    "    4. Write a method called `value` which returns a tuple containing the values of `x` and `y`. Make this method into a property, and write a setter and a deleter for manipulating the values of `x` and `y`."
   ]
  },
  {
   "cell_type": "code",
   "execution_count": 23,
   "metadata": {},
   "outputs": [],
   "source": [
    "class Numbers:\n",
    "  MULTIPLIER = 1\n",
    "  def __init__(self, x, y):\n",
    "    self.x = x\n",
    "    self.y = y\n",
    "    \n",
    "  def add(self):\n",
    "    return self.x + self.y\n",
    "\n",
    "  def multiply(self, a):\n",
    "    return a * MULTIPLIER\n",
    "  \n",
    "  def subtract(b, c):\n",
    "    return b-c\n",
    "\n",
    "  @property\n",
    "  def value(self):\n",
    "    res = tuple(self.x, self.y)\n",
    "    return res\n",
    "\n",
    "  @value.setter\n",
    "  def value(self, x, y):\n",
    "    self.x = x\n",
    "    self.y = y\n",
    "  \n",
    "  @value.deleter\n",
    "  def value(self):\n",
    "    del(self.x)\n",
    "    del(self.y)\n"
   ]
  },
  {
   "cell_type": "markdown",
   "metadata": {},
   "source": [
    "## Exercise 5:\n",
    "1. Create an instance of the `Person` class from example 2. Use the `dir` function on the instance. Then use the `dir` function on the class.\n",
    "    1. What happens if you call the `__str__` method on the instance? Verify that you get the same result if you call the `str` function with the instance as a parameter.\n",
    "    2. What is the type of the instance?\n",
    "    3. What is the type of the class?\n",
    "    4. Write a function which prints out the names and values of all the custom attributes of any object that is passed in as a parameter."
   ]
  },
  {
   "cell_type": "code",
   "execution_count": 35,
   "metadata": {},
   "outputs": [
    {
     "name": "stdout",
     "output_type": "stream",
     "text": [
      "18\n",
      "<__main__.Person object at 0x7fb99858f7d0>\n",
      "<__main__.Person object at 0x7fb99858f7d0>\n",
      "<class '__main__.Person'>\n",
      "<class 'type'>\n",
      "Yassine\n",
      "Zaazaa\n",
      "2003-03-14\n",
      "VILLA 52 RES NASSIM\n",
      "0654397724\n",
      "Yassine.zaazaa@um6p.ma\n"
     ]
    }
   ],
   "source": [
    "Yassine = Person(\"Yassine\", \"Zaazaa\", datetime.date(2003, 3, 14), \"VILLA 52 RES NASSIM\", \"0654397724\", \"Yassine.zaazaa@um6p.ma\")\n",
    "dir(Yassine)\n",
    "dir(Person)\n",
    "print(Yassine.__str__())\n",
    "print(str(Yassine))\n",
    "print(type(Yassine))\n",
    "print(type(Person))\n",
    "def print_names_and_values(person):\n",
    "  print(person.name, person.surname, person.birthdate, person.adress, person.telephone, person.email, sep=\"\\n\")\n",
    "print_names_and_values(Yassine)"
   ]
  },
  {
   "cell_type": "markdown",
   "metadata": {},
   "source": [
    "## Exercise 6:\n",
    "Write a class for creating completely generic objects: its `__init__` function should accept any number of keyword parameters, and set them on the object as attributes with the keys as names. Write a `__str__` method for the class – the string it returns should include the name of the class and the values of all the object’s custom instance attributes."
   ]
  },
  {
   "cell_type": "code",
   "execution_count": 47,
   "metadata": {},
   "outputs": [
    {
     "name": "stdout",
     "output_type": "stream",
     "text": [
      "1\n",
      "<class '__main__.generic'>: \n",
      "a : 1\n",
      "b : 2\n",
      "c : 3\n",
      "d : 4\n",
      "\n"
     ]
    }
   ],
   "source": [
    "class generic:\n",
    "  def __init__(self, **kwargs):\n",
    "    self.__dict__.update(kwargs)\n",
    "    self.kwargs = kwargs\n",
    "\n",
    "  def __str__(self):\n",
    "    res = \"{}: \\n\".format(type(self))\n",
    "    for i,k in self.kwargs.items():\n",
    "      res += \"{} : {}\".format(i,k) + \"\\n\"\n",
    "    return res "
   ]
  }
 ],
 "metadata": {
  "interpreter": {
   "hash": "41e284e212c06d45352fb20bccfed64d71a36b148afe39f3ef40b7f303921c8f"
  },
  "kernelspec": {
   "display_name": "Python 3 (ipykernel)",
   "language": "python",
   "name": "python3"
  },
  "language_info": {
   "codemirror_mode": {
    "name": "ipython",
    "version": 3
   },
   "file_extension": ".py",
   "mimetype": "text/x-python",
   "name": "python",
   "nbconvert_exporter": "python",
   "pygments_lexer": "ipython3",
   "version": "3.7.6"
  }
 },
 "nbformat": 4,
 "nbformat_minor": 2
}
