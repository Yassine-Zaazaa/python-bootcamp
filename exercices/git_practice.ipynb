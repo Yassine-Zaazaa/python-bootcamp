{
 "cells": [
  {
   "cell_type": "markdown",
   "metadata": {},
   "source": [
    "# Team Git practice"
   ]
  },
  {
   "cell_type": "markdown",
   "metadata": {},
   "source": [
    "## Rules"
   ]
  },
  {
   "cell_type": "markdown",
   "metadata": {},
   "source": [
    "In the following tasks we will try to simulate working with git in a team environment.\n",
    "\n",
    "Split up into groups of two, that consist of the following:\n",
    "- Developer1, responsible for managing the remote repository, as well as project devoplopement.\n",
    "- Developer2, responsible for project developement.\n",
    "\n",
    "Use descriptive commit messages as we are going to check your commit history."
   ]
  },
  {
   "cell_type": "markdown",
   "metadata": {},
   "source": [
    "## quest 0"
   ]
  },
  {
   "cell_type": "markdown",
   "metadata": {},
   "source": [
    "1. install git\n",
    "2. add some basic configuration (email, name, text editor ...)\n",
    "3. configure github with ssh"
   ]
  },
  {
   "cell_type": "markdown",
   "metadata": {},
   "source": [
    "## quest 1"
   ]
  },
  {
   "cell_type": "markdown",
   "metadata": {},
   "source": [
    "### Developer 1"
   ]
  },
  {
   "cell_type": "markdown",
   "metadata": {},
   "source": [
    "1. Create a public repository in your GitHub account\n",
    "2. Add Developper2 in your team as Collaborator"
   ]
  },
  {
   "cell_type": "markdown",
   "metadata": {},
   "source": [
    "### Developer1 and Developer2"
   ]
  },
  {
   "cell_type": "markdown",
   "metadata": {},
   "source": [
    "1. remote repository repository to your computer\n",
    "2. Navigate to the working directory you just cloned"
   ]
  },
  {
   "cell_type": "markdown",
   "metadata": {},
   "source": [
    "### Developer1"
   ]
  },
  {
   "cell_type": "markdown",
   "metadata": {},
   "source": [
    "1. create the file `AUTHORS`, put the team's members names there\n",
    "2. stage the changes to be commited\n",
    "3. commit the changes (use a descriptive message).\n",
    "4. push the changes to the main branch"
   ]
  },
  {
   "cell_type": "markdown",
   "metadata": {},
   "source": [
    "### Developer2"
   ]
  },
  {
   "cell_type": "markdown",
   "metadata": {},
   "source": [
    "1. Create a new branch `devel_000` based on the master branch, and switch to it\n",
    "2. Create a file `geo.py`, put the solution of exercice1 part4 in there\n",
    "3. stage the changes to be commited\n",
    "4. commit the changes.\n",
    "5. Push the branch to the remote repository and create a pull request"
   ]
  },
  {
   "cell_type": "markdown",
   "metadata": {},
   "source": [
    "### Developer1"
   ]
  },
  {
   "cell_type": "markdown",
   "metadata": {},
   "source": [
    "1. review the pull request made by Developer1\n",
    "2. merge the branch devel_000 into main if satisfied with the modifications"
   ]
  },
  {
   "cell_type": "markdown",
   "metadata": {},
   "source": [
    "## quest 2"
   ]
  },
  {
   "cell_type": "markdown",
   "metadata": {},
   "source": [
    "### Developer2"
   ]
  },
  {
   "cell_type": "markdown",
   "metadata": {},
   "source": [
    "1. create a new branch devel_001 based on the master branch, and switch to it\n",
    "2. in the file geo.py, put the solution of exercice2 part4 in there\n",
    "3. stage the changes to be commited\n",
    "4. commit the changes.\n",
    "5. don't push the changes to the remote repository just yet"
   ]
  },
  {
   "cell_type": "markdown",
   "metadata": {},
   "source": [
    "### Developer1"
   ]
  },
  {
   "cell_type": "markdown",
   "metadata": {},
   "source": [
    "1. create branch devel_002 based on master, and switch to it\n",
    "2. create the file requirements.txt, add `numpy` package as one of the requerements of your project\n",
    "3. stage the changes to be comited\n",
    "4. commit the changes and push the branch to remote\n",
    "5. create a pull request, the reques Developer2 for review\n",
    "6. merge `devel_002` into `master`"
   ]
  },
  {
   "cell_type": "markdown",
   "metadata": {},
   "source": [
    "### Developer2"
   ]
  },
  {
   "cell_type": "markdown",
   "metadata": {},
   "source": [
    "now you want to push your branch `devel_001` into `master` but first you need to update it with the last changes from `master`\n",
    "1. switch to branch `master`\n",
    "2. pull the changes into `master`\n",
    "3. switch back to the branch `devel_001`\n",
    "4. merge `master` into `devel_001`\n",
    "5. push your branch and create a pull request and ask Developer1 for review"
   ]
  },
  {
   "cell_type": "markdown",
   "metadata": {},
   "source": [
    "## quest3"
   ]
  },
  {
   "cell_type": "markdown",
   "metadata": {},
   "source": [
    "### Developer1"
   ]
  },
  {
   "cell_type": "markdown",
   "metadata": {},
   "source": [
    "as the release manager you want to keep the remote clean and tiddy\n",
    "- delete all the outdated remote branches\n",
    "\n",
    "you may as well clean your local environement\n",
    "\n",
    "- delete all outdated local branches\n",
    "\n",
    "\n",
    "1. create a new branch `devel_003`and switch to it\n",
    "2. add the class `position` that contains propreties `x` and `y` to the file `geo.py`\n",
    "3. push the local branch to remote\n",
    "4. dont merge it into `master`"
   ]
  },
  {
   "cell_type": "markdown",
   "metadata": {},
   "source": [
    "### Developer2"
   ]
  },
  {
   "cell_type": "markdown",
   "metadata": {},
   "source": [
    "you want to make some changes based on what Developer1 did in the branch `devel_003`\n",
    "\n",
    "1. fetch all remote branch into local\n",
    "2. create a new branch based on `devel_003`\n",
    "3. add the proprety `center` (an instance of the position object) to the class `square`, make it oprional\n",
    "4. push/create a pull request/ask for a review"
   ]
  },
  {
   "cell_type": "markdown",
   "metadata": {},
   "source": [
    "## quest 4"
   ]
  },
  {
   "cell_type": "markdown",
   "metadata": {},
   "source": [
    "### Developer1"
   ]
  },
  {
   "cell_type": "markdown",
   "metadata": {},
   "source": [
    "1. create a new branch\n",
    "1. delete the file `geo.py`\n",
    "2. commit/push/merge to master"
   ]
  },
  {
   "cell_type": "markdown",
   "metadata": {},
   "source": [
    "## Developer2"
   ]
  },
  {
   "cell_type": "markdown",
   "metadata": {},
   "source": [
    "1. switch to branch `master`\n",
    "2. pull the change\n",
    "3. create a new branch\n",
    "3. recover geo.py"
   ]
  },
  {
   "cell_type": "code",
   "execution_count": null,
   "metadata": {},
   "outputs": [],
   "source": []
  }
 ],
 "metadata": {
  "kernelspec": {
   "display_name": "Python 3 (ipykernel)",
   "language": "python",
   "name": "python3"
  },
  "language_info": {
   "codemirror_mode": {
    "name": "ipython",
    "version": 3
   },
   "file_extension": ".py",
   "mimetype": "text/x-python",
   "name": "python",
   "nbconvert_exporter": "python",
   "pygments_lexer": "ipython3",
   "version": "3.7.6"
  }
 },
 "nbformat": 4,
 "nbformat_minor": 5
}
